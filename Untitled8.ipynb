{
  "metadata": {
    "kernelspec": {
      "name": "python",
      "display_name": "Python (Pyodide)",
      "language": "python"
    },
    "language_info": {
      "codemirror_mode": {
        "name": "python",
        "version": 3
      },
      "file_extension": ".py",
      "mimetype": "text/x-python",
      "name": "python",
      "nbconvert_exporter": "python",
      "pygments_lexer": "ipython3",
      "version": "3.8"
    }
  },
  "nbformat_minor": 4,
  "nbformat": 4,
  "cells": [
    {
      "cell_type": "markdown",
      "source": "from itertools import combinations\n\ndef is_prime(num):\n    if num < 2:\n        return False\n    for i in range(2, int(num**0.5) + 1):\n        if num % i == 0:\n            return False\n    return True\n\ndef solution(nums):\n    count = 0\n    # 모든 가능한 3개의 조합을 확인합니다.\n    for comb in combinations(nums, 3):\n        if is_prime(sum(comb)):\n            count += 1\n    return count\n\n# 테스트\nprint(solution([1, 2, 3, 4]))  # 예상 출력: 1\nprint(solution([1, 2, 7, 6, 4]))  # 예상 출력: 4\n",
      "metadata": {}
    },
    {
      "cell_type": "markdown",
      "source": "### Solution Explanation\n\n1. is_prime 함수: 주어진 숫자가 소수인지 알려준다. 2보다 작은 숫자면 소수가 아니므로 False를 반환하고, 그렇지 않으면 2부터 해당 숫자의 제곱근까지의 모든 숫자로 나누어 떨어지는지 확인한다.\n2. combinations 사용: itertools.combinations를 사용하여 주어진 리스트 nums에서 3개의 숫자를 뽑는 모든 조합을 생성한다.\n\n3. 합의 소수 여부 확인: 각 조합의 합이 소수인지 확인하고, 소수일 경우 카운트를 증가시킨다.\n\n4. 결과 반환: 소수가 되는 경우의 수를 반환한다.",
      "metadata": {}
    }
  ]
}